{
 "metadata": {
  "language_info": {
   "codemirror_mode": {
    "name": "ipython",
    "version": 3
   },
   "file_extension": ".py",
   "mimetype": "text/x-python",
   "name": "python",
   "nbconvert_exporter": "python",
   "pygments_lexer": "ipython3",
   "version": "3.8.5-final"
  },
  "orig_nbformat": 2,
  "kernelspec": {
   "name": "python3",
   "display_name": "Python 3.8.5 64-bit (conda)",
   "metadata": {
    "interpreter": {
     "hash": "b3ba2566441a7c06988d0923437866b63cedc61552a5af99d1f4fb67d367b25f"
    }
   }
  }
 },
 "nbformat": 4,
 "nbformat_minor": 2,
 "cells": [
  {
   "source": [
    "<h2>Inite Database firebaase export as JSON file</h2>"
   ],
   "cell_type": "markdown",
   "metadata": {}
  },
  {
   "cell_type": "code",
   "execution_count": 1,
   "metadata": {},
   "outputs": [],
   "source": [
    "from pandas_datareader import data as pdr\n",
    "# pip install pandas-datareader\n",
    "import quandl\n",
    "# pip install quandl\n",
    "from googlefinance import getQuotes\n",
    "# pip install googlefinance\n",
    "import json\n",
    "import joblib"
   ]
  },
  {
   "source": [
    "<h3>Inite read fuction</h3>"
   ],
   "cell_type": "markdown",
   "metadata": {}
  },
  {
   "cell_type": "code",
   "execution_count": 2,
   "metadata": {},
   "outputs": [],
   "source": [
    "def QueryStockIndex(name, startDate, endDate):\n",
    "    data = pdr.get_data_yahoo(name, start=startDate, end=endDate)\n",
    "    return data"
   ]
  },
  {
   "cell_type": "code",
   "execution_count": 3,
   "metadata": {},
   "outputs": [],
   "source": [
    "def QueryOilPrice(startDate, endDate):\n",
    "    quandl.ApiConfig.api_key = \"RgFSGT7KyM8eqQzDgers\"\n",
    "    OilPrice = quandl.get(\"OPEC/ORB\", start_date=startDate, end_date=endDate)\n",
    "    return OilPrice"
   ]
  },
  {
   "source": [
    "<h3>Read DATA & model</h3>"
   ],
   "cell_type": "markdown",
   "metadata": {}
  },
  {
   "cell_type": "code",
   "execution_count": 4,
   "metadata": {},
   "outputs": [],
   "source": [
    "import datetime\n",
    "\n",
    "dateStart = datetime.datetime(2003, 1, 1)\n",
    "dateEnd = datetime.datetime(2020, 12, 31)"
   ]
  },
  {
   "cell_type": "code",
   "execution_count": 20,
   "metadata": {},
   "outputs": [
    {
     "output_type": "stream",
     "name": "stdout",
     "text": [
      "               Open     High      Low    Close        Volume\nDate                                                        \n2021-03-18  1579.72  1583.30  1567.67  1568.82           NaN\n2021-03-17  1562.92  1571.53  1559.22  1566.76  7.973979e+09\n2021-03-16  1569.01  1573.13  1562.35  1564.03  8.932673e+09\n2021-03-15  1573.11  1575.96  1562.69  1565.73  6.728202e+09\n2021-03-12  1579.71  1584.40  1562.90  1568.19  8.544362e+09\n...             ...      ...      ...      ...           ...\n2016-03-25  1407.43  1410.17  1394.53  1394.78           NaN\n2016-03-24  1407.36  1412.80  1403.53  1405.41           NaN\n2016-03-23  1396.24  1412.16  1393.16  1412.16           NaN\n2016-03-22  1400.95  1402.03  1391.23  1397.20           NaN\n2016-03-21  1384.72  1393.68  1380.16  1393.63           NaN\n\n[1218 rows x 5 columns]\n"
     ]
    }
   ],
   "source": [
    "SET = pdr.DataReader('^SET', data_source='stooq')\n",
    "print(SET)"
   ]
  },
  {
   "cell_type": "code",
   "execution_count": 5,
   "metadata": {},
   "outputs": [
    {
     "output_type": "stream",
     "name": "stdout",
     "text": [
      "            Value\nDate             \n2003-01-02  30.05\n2003-01-03  30.83\n2003-01-06  30.71\n2003-01-07  29.72\n2003-01-08  28.86\n...           ...\n2020-12-24  50.31\n2020-12-28  50.10\n2020-12-29  50.16\n2020-12-30  50.22\n2020-12-31  50.24\n\n[4643 rows x 1 columns]\n"
     ]
    }
   ],
   "source": [
    "OPEC = QueryOilPrice(dateStart, dateEnd)\n",
    "print(OPEC)"
   ]
  },
  {
   "cell_type": "code",
   "execution_count": 6,
   "metadata": {},
   "outputs": [
    {
     "output_type": "stream",
     "name": "stdout",
     "text": [
      "              High     Low    Open   Close      Volume  Adj Close\nDate                                                             \n2003-01-01   4.225   4.225   4.225   4.225         0.0   2.034884\n2003-01-02   4.300   4.225   4.225   4.250  18449000.0   2.046925\n2003-01-03   4.275   4.225   4.250   4.225  15724000.0   2.034884\n2003-01-06   4.250   4.225   4.250   4.250  11980000.0   2.046925\n2003-01-07   4.275   4.250   4.250   4.275  22059000.0   2.058966\n...            ...     ...     ...     ...         ...        ...\n2020-12-24  41.500  40.750  40.750  41.250  45405500.0  40.424999\n2020-12-25  42.250  41.250  41.250  42.000  32414000.0  41.160000\n2020-12-28  42.750  41.000  42.250  41.000  60698100.0  40.180000\n2020-12-29  42.500  41.000  41.250  42.500  41046600.0  41.650002\n2020-12-30  43.250  42.250  43.250  42.500  67293300.0  41.650002\n\n[4450 rows x 6 columns]\n"
     ]
    }
   ],
   "source": [
    "PTT = QueryStockIndex(\"PTT.BK\", dateStart, dateEnd)\n",
    "print(PTT)"
   ]
  },
  {
   "cell_type": "code",
   "execution_count": 79,
   "metadata": {},
   "outputs": [
    {
     "output_type": "stream",
     "name": "stderr",
     "text": [
      "C:\\ProgramData\\Anaconda3\\lib\\site-packages\\sklearn\\base.py:329: UserWarning: Trying to unpickle estimator StandardScaler from version 0.24.1 when using version 0.23.2. This might lead to breaking code or invalid results. Use at your own risk.\n  warnings.warn(\nC:\\ProgramData\\Anaconda3\\lib\\site-packages\\sklearn\\base.py:329: UserWarning: Trying to unpickle estimator SVR from version 0.24.1 when using version 0.23.2. This might lead to breaking code or invalid results. Use at your own risk.\n  warnings.warn(\nC:\\ProgramData\\Anaconda3\\lib\\site-packages\\sklearn\\base.py:329: UserWarning: Trying to unpickle estimator Pipeline from version 0.24.1 when using version 0.23.2. This might lead to breaking code or invalid results. Use at your own risk.\n  warnings.warn(\n"
     ]
    }
   ],
   "source": [
    "modelPTT = joblib.load('../SVM/model/best/PTT.joblib')"
   ]
  },
  {
   "cell_type": "code",
   "execution_count": 80,
   "metadata": {},
   "outputs": [
    {
     "output_type": "stream",
     "name": "stdout",
     "text": [
      "            High   Low  Open  Close      Volume  Adj Close\nDate                                                      \n2020-01-02  2.86  2.80  2.80   2.86    345400.0   2.622951\n2020-01-03  2.94  2.86  2.86   2.90   1347100.0   2.659636\n2020-01-06  3.10  2.92  2.92   2.94  14450200.0   2.696321\n2020-01-07  2.98  2.92  2.96   2.94   3437300.0   2.696321\n2020-01-08  2.96  2.78  2.96   2.80   4401100.0   2.567924\n...          ...   ...   ...    ...         ...        ...\n2021-03-08  3.04  2.98  3.02   2.98   1780600.0   2.892353\n2021-03-09  3.06  3.00  3.00   3.06   1859200.0   2.970000\n2021-03-10  3.08  3.02  3.06   3.06   4684800.0   2.970000\n2021-03-11  3.06  2.98  3.00   3.02   2373800.0   3.020000\n2021-03-12  3.10  3.02  3.02   3.10   3551000.0   3.100000\n\n[291 rows x 6 columns]\n"
     ]
    }
   ],
   "source": [
    "SUSCO = QueryStockIndex(\"SUSCO.BK\", dateStart, dateEnd)\n",
    "print(SUSCO)"
   ]
  },
  {
   "cell_type": "code",
   "execution_count": 81,
   "metadata": {},
   "outputs": [],
   "source": [
    "modelSUSCO = joblib.load('../SVM/model/best/SUSCO.joblib')"
   ]
  },
  {
   "cell_type": "code",
   "execution_count": 82,
   "metadata": {},
   "outputs": [
    {
     "output_type": "stream",
     "name": "stdout",
     "text": [
      "             High    Low   Open  Close      Volume  Adj Close\nDate                                                         \n2020-01-02  72.00  69.25  70.00  71.00  12337200.0  69.374550\n2020-01-03  72.00  70.25  71.00  72.00  10290600.0  70.351654\n2020-01-06  73.50  69.50  73.00  70.00  16266200.0  68.397446\n2020-01-07  70.75  69.25  70.25  70.00   9925300.0  68.397446\n2020-01-08  69.50  66.50  69.00  67.25  17780300.0  65.710403\n...           ...    ...    ...    ...         ...        ...\n2021-03-08  66.00  63.75  66.00  64.25  16431500.0  64.250000\n2021-03-09  64.50  62.50  64.50  63.50   8834000.0  63.500000\n2021-03-10  64.00  62.50  63.00  63.25  11197800.0  63.250000\n2021-03-11  64.50  63.25  63.75  64.50   9075800.0  64.500000\n2021-03-12  65.25  63.75  64.75  64.25   5926100.0  64.250000\n\n[291 rows x 6 columns]\n"
     ]
    }
   ],
   "source": [
    "TOP = QueryStockIndex(\"TOP.BK\", dateStart, dateEnd)\n",
    "print(TOP)"
   ]
  },
  {
   "cell_type": "code",
   "execution_count": 83,
   "metadata": {},
   "outputs": [],
   "source": [
    "modelTOP = joblib.load('../SVM/model/best/TOP.joblib')"
   ]
  },
  {
   "cell_type": "code",
   "execution_count": 84,
   "metadata": {},
   "outputs": [
    {
     "output_type": "stream",
     "name": "stdout",
     "text": [
      "            High   Low  Open  Close       Volume  Adj Close\nDate                                                       \n2020-01-02  4.00  3.68  3.68   3.94  480402300.0   3.659238\n2020-01-03  3.96  3.88  3.96   3.92  149551200.0   3.640663\n2020-01-06  4.02  3.74  3.94   3.76  506720000.0   3.492065\n2020-01-07  3.84  3.64  3.82   3.76  243140900.0   3.492065\n2020-01-08  3.70  3.54  3.68   3.54  249116900.0   3.287742\n...          ...   ...   ...    ...          ...        ...\n2021-03-08  3.64  3.52  3.60   3.56  279261000.0   3.560000\n2021-03-09  3.56  3.48  3.56   3.50   98807400.0   3.500000\n2021-03-10  3.60  3.48  3.50   3.56  170199500.0   3.560000\n2021-03-11  3.74  3.56  3.62   3.72  540556300.0   3.720000\n2021-03-12  3.82  3.70  3.80   3.74  560114700.0   3.740000\n\n[291 rows x 6 columns]\n"
     ]
    }
   ],
   "source": [
    "IRPC = QueryStockIndex(\"IRPC.BK\", dateStart, dateEnd)\n",
    "print(IRPC)"
   ]
  },
  {
   "cell_type": "code",
   "execution_count": 85,
   "metadata": {},
   "outputs": [
    {
     "output_type": "stream",
     "name": "stderr",
     "text": [
      "C:\\ProgramData\\Anaconda3\\lib\\site-packages\\sklearn\\base.py:329: UserWarning: Trying to unpickle estimator StandardScaler from version 0.24.1 when using version 0.23.2. This might lead to breaking code or invalid results. Use at your own risk.\n  warnings.warn(\nC:\\ProgramData\\Anaconda3\\lib\\site-packages\\sklearn\\base.py:329: UserWarning: Trying to unpickle estimator SVR from version 0.24.1 when using version 0.23.2. This might lead to breaking code or invalid results. Use at your own risk.\n  warnings.warn(\nC:\\ProgramData\\Anaconda3\\lib\\site-packages\\sklearn\\base.py:329: UserWarning: Trying to unpickle estimator Pipeline from version 0.24.1 when using version 0.23.2. This might lead to breaking code or invalid results. Use at your own risk.\n  warnings.warn(\n"
     ]
    }
   ],
   "source": [
    "modelIRPC = joblib.load('../SVM/model/best/IRPC.joblib')"
   ]
  },
  {
   "cell_type": "code",
   "execution_count": 86,
   "metadata": {},
   "outputs": [
    {
     "output_type": "stream",
     "name": "stdout",
     "text": [
      "             High    Low   Open  Close     Volume  Adj Close\nDate                                                        \n2020-01-02  29.50  27.75  28.00  29.00  8069000.0  28.235569\n2020-01-03  29.75  29.00  29.50  29.00  4612700.0  28.235569\n2020-01-06  29.75  27.00  29.50  27.75  9127800.0  27.018518\n2020-01-07  28.50  27.25  28.25  28.25  4682900.0  27.505339\n2020-01-08  28.00  26.75  28.00  27.75  8237000.0  27.018518\n...           ...    ...    ...    ...        ...        ...\n2021-03-08  29.00  28.00  28.75  28.25  8809200.0  28.250000\n2021-03-09  28.25  27.00  28.25  27.75  6235700.0  27.750000\n2021-03-10  27.75  27.25  27.75  27.75  2582400.0  27.750000\n2021-03-11  28.25  27.25  27.75  27.75  4470300.0  27.750000\n2021-03-12  28.75  27.75  28.00  27.75  6903700.0  27.750000\n\n[291 rows x 6 columns]\n"
     ]
    }
   ],
   "source": [
    "BCP = QueryStockIndex(\"BCP.BK\", dateStart, dateEnd)\n",
    "print(BCP)"
   ]
  },
  {
   "cell_type": "code",
   "execution_count": 87,
   "metadata": {},
   "outputs": [
    {
     "output_type": "stream",
     "name": "stderr",
     "text": [
      "C:\\ProgramData\\Anaconda3\\lib\\site-packages\\sklearn\\base.py:329: UserWarning: Trying to unpickle estimator StandardScaler from version 0.24.1 when using version 0.23.2. This might lead to breaking code or invalid results. Use at your own risk.\n  warnings.warn(\nC:\\ProgramData\\Anaconda3\\lib\\site-packages\\sklearn\\base.py:329: UserWarning: Trying to unpickle estimator SVR from version 0.24.1 when using version 0.23.2. This might lead to breaking code or invalid results. Use at your own risk.\n  warnings.warn(\nC:\\ProgramData\\Anaconda3\\lib\\site-packages\\sklearn\\base.py:329: UserWarning: Trying to unpickle estimator Pipeline from version 0.24.1 when using version 0.23.2. This might lead to breaking code or invalid results. Use at your own risk.\n  warnings.warn(\n"
     ]
    }
   ],
   "source": [
    "modelBCP = joblib.load('../SVM/model/best/BCP.joblib')"
   ]
  },
  {
   "cell_type": "code",
   "execution_count": 88,
   "metadata": {},
   "outputs": [],
   "source": [
    "import pandas as pd\n",
    "from datetime import datetime\n",
    "\n",
    "Timelist = pd.date_range(start=dateStart,end=dateEnd)"
   ]
  },
  {
   "source": [
    "<h3>Put data to list</h3>"
   ],
   "cell_type": "markdown",
   "metadata": {}
  },
  {
   "cell_type": "code",
   "execution_count": 89,
   "metadata": {},
   "outputs": [],
   "source": [
    "import json\n",
    "data = {}\n",
    "\n",
    "# SET\n",
    "data['SET'] = {}\n",
    "\n",
    "Date = []\n",
    "Open = []\n",
    "Close = []\n",
    "High = []\n",
    "Low = []\n",
    "for index, row in SET.iterrows():\n",
    "    if (index.year >= 2020):\n",
    "        Date.append(index.date())\n",
    "        Open.append(row.Open)\n",
    "        Close.append(row.Close)\n",
    "        High.append(row.High)\n",
    "        Low.append(row.Low)\n",
    "Date.reverse()\n",
    "Open.reverse()\n",
    "Close.reverse()\n",
    "High.reverse()\n",
    "Low.reverse()\n",
    "\n",
    "point = 0\n",
    "for i in Timelist:\n",
    "    if Date[point] > i:\n",
    "        point -= 1\n",
    "    temp = {\n",
    "        str(i)[:10] : {\n",
    "            \"Open\" : Open[point],\n",
    "            \"Close\" : Close[point],\n",
    "            \"High\" : High[point],\n",
    "            \"Low\" : Low[point]\n",
    "        }\n",
    "    }\n",
    "    data['SET'].update(temp)\n",
    "    point += 1"
   ]
  },
  {
   "cell_type": "code",
   "execution_count": 65,
   "metadata": {},
   "outputs": [],
   "source": [
    "# OPEC\n",
    "data ={}\n",
    "data['OPEC'] = {}\n",
    "\n",
    "Date = []\n",
    "Value = []\n",
    "for index, row in OPEC.iterrows():\n",
    "    Date.append(index.date())\n",
    "    Value.append(row.Value)\n",
    "\n",
    "point = 0\n",
    "for i in Timelist:\n",
    "    if point >= len(Date):\n",
    "        point = len(Date) - 1\n",
    "    if (Date[point] > i):\n",
    "        point -= 1\n",
    "    temp = {\n",
    "        str(i)[:10] : {\n",
    "            \"value\" : Value[point]\n",
    "        }\n",
    "    }\n",
    "    data['OPEC'].update(temp)\n",
    "    point += 1"
   ]
  },
  {
   "cell_type": "code",
   "execution_count": 66,
   "metadata": {},
   "outputs": [],
   "source": [
    "# PTT\n",
    "data['PTT'] = {}\n",
    "\n",
    "Date = []\n",
    "Open = []\n",
    "Close = []\n",
    "High = []\n",
    "Low = []\n",
    "Volume = []\n",
    "for index, row in PTT.iterrows():\n",
    "    Date.append(index.date())\n",
    "    Open.append(round(row.Open,2))\n",
    "    Close.append(round(row.Close,2))\n",
    "    High.append(round(row.High,2))\n",
    "    Low.append(round(row.Low,2))\n",
    "    Volume.append(row.Volume)\n",
    "\n",
    "point = 0\n",
    "for i in Timelist:\n",
    "    if point >= len(Date):\n",
    "        point = len(Date) - 1\n",
    "    if (Date[point] > i):\n",
    "        point -= 1\n",
    "    X = [[High[point], Low[point], Open[point], Close[point], Volume[point], data['OPEC'][str(i.date())]['value']]]\n",
    "    y = modelPTT.predict(X)\n",
    "    if (i.strftime('%w') == '0') or (i.strftime('%w') == '6'):\n",
    "        tempVolume = 0\n",
    "    else :\n",
    "        tempVolume = Volume[point]\n",
    "    temp = {\n",
    "        str(i)[:10] : {\n",
    "            \"open\" : Open[point],\n",
    "            \"close\" : Close[point],\n",
    "            \"high\" : High[point],\n",
    "            \"low\" : Low[point],\n",
    "            \"volume\" : tempVolume,\n",
    "            \"predict\" : round(y[0],2)\n",
    "        }\n",
    "    }\n",
    "    data['PTT'].update(temp)\n",
    "    point += 1"
   ]
  },
  {
   "cell_type": "code",
   "execution_count": 67,
   "metadata": {},
   "outputs": [],
   "source": [
    "# SUSCO\n",
    "data['SUSCO'] = {}\n",
    "\n",
    "Date = []\n",
    "Open = []\n",
    "Close = []\n",
    "High = []\n",
    "Low = []\n",
    "Volume = []\n",
    "for index, row in SUSCO.iterrows():\n",
    "    Date.append(index.date())\n",
    "    Open.append(round(row.Open,2))\n",
    "    Close.append(round(row.Close,2))\n",
    "    High.append(round(row.High,2))\n",
    "    Low.append(round(row.Low,2))\n",
    "    Volume.append(row.Volume)\n",
    "\n",
    "point = 0\n",
    "for i in Timelist:\n",
    "    if point >= len(Date):\n",
    "        point = len(Date) - 1\n",
    "    if (Date[point] > i):\n",
    "        point -= 1\n",
    "    X = [[High[point], Low[point], Open[point], Close[point], Volume[point], data['OPEC'][str(i.date())]['value']]]\n",
    "    y = modelSUSCO.predict(X)\n",
    "    if (i.strftime('%w') == '0') or (i.strftime('%w') == '6'):\n",
    "        tempVolume = 0\n",
    "    else :\n",
    "        tempVolume = Volume[point]\n",
    "    temp = {\n",
    "        str(i)[:10] : {\n",
    "            \"open\" : Open[point],\n",
    "            \"close\" : Close[point],\n",
    "            \"high\" : High[point],\n",
    "            \"low\" : Low[point],\n",
    "            \"volume\" : tempVolume,\n",
    "            \"predict\" : round(y[0],2)\n",
    "        }\n",
    "    }\n",
    "    data['SUSCO'].update(temp)\n",
    "    point += 1"
   ]
  },
  {
   "cell_type": "code",
   "execution_count": 68,
   "metadata": {},
   "outputs": [],
   "source": [
    "# TOP\n",
    "data['TOP'] = {}\n",
    "\n",
    "Date = []\n",
    "Open = []\n",
    "Close = []\n",
    "High = []\n",
    "Low = []\n",
    "Volume = []\n",
    "for index, row in TOP.iterrows():\n",
    "    Date.append(index.date())\n",
    "    Open.append(round(row.Open,2))\n",
    "    Close.append(round(row.Close,2))\n",
    "    High.append(round(row.High,2))\n",
    "    Low.append(round(row.Low,2))\n",
    "    Volume.append(row.Volume)\n",
    "\n",
    "point = 0\n",
    "for i in Timelist:\n",
    "    if point >= len(Date):\n",
    "        point = len(Date) - 1\n",
    "    if (Date[point] > i):\n",
    "        point -= 1\n",
    "    X = [[High[point], Low[point], Open[point], Close[point], Volume[point], data['OPEC'][str(i.date())]['value']]]\n",
    "    y = modelTOP.predict(X)\n",
    "    if (i.strftime('%w') == '0') or (i.strftime('%w') == '6'):\n",
    "        tempVolume = 0\n",
    "    else :\n",
    "        tempVolume = Volume[point]\n",
    "    temp = {\n",
    "        str(i)[:10] : {\n",
    "            \"open\" : Open[point],\n",
    "            \"close\" : Close[point],\n",
    "            \"high\" : High[point],\n",
    "            \"low\" : Low[point],\n",
    "            \"volume\" : tempVolume,\n",
    "            \"predict\" : round(y[0],2)\n",
    "        }\n",
    "    }\n",
    "    data['TOP'].update(temp)\n",
    "    point += 1"
   ]
  },
  {
   "cell_type": "code",
   "execution_count": 69,
   "metadata": {},
   "outputs": [],
   "source": [
    "# IRPC\n",
    "data['IRPC'] = {}\n",
    "\n",
    "Date = []\n",
    "Open = []\n",
    "Close = []\n",
    "High = []\n",
    "Low = []\n",
    "Volume = []\n",
    "for index, row in IRPC.iterrows():\n",
    "    Date.append(index.date())\n",
    "    Open.append(round(row.Open,2))\n",
    "    Close.append(round(row.Close,2))\n",
    "    High.append(round(row.High,2))\n",
    "    Low.append(round(row.Low,2))\n",
    "    Volume.append(row.Volume)\n",
    "\n",
    "point = 0\n",
    "for i in Timelist:\n",
    "    if point >= len(Date):\n",
    "        point = len(Date) - 1\n",
    "    if (Date[point] > i):\n",
    "        point -= 1\n",
    "    X = [[High[point], Low[point], Open[point], Close[point], Volume[point], data['OPEC'][str(i.date())]['value']]]\n",
    "    y = modelIRPC.predict(X)\n",
    "    if (i.strftime('%w') == '0') or (i.strftime('%w') == '6'):\n",
    "        tempVolume = 0\n",
    "    else :\n",
    "        tempVolume = Volume[point]\n",
    "    temp = {\n",
    "        str(i)[:10] : {\n",
    "            \"open\" : Open[point],\n",
    "            \"close\" : Close[point],\n",
    "            \"high\" : High[point],\n",
    "            \"low\" : Low[point],\n",
    "            \"volume\" : tempVolume,\n",
    "            \"predict\" : round(y[0],2)\n",
    "        }\n",
    "    }\n",
    "    data['IRPC'].update(temp)\n",
    "    point += 1"
   ]
  },
  {
   "cell_type": "code",
   "execution_count": 70,
   "metadata": {},
   "outputs": [],
   "source": [
    "# BCP\n",
    "data['BCP'] = {}\n",
    "\n",
    "Date = []\n",
    "Open = []\n",
    "Close = []\n",
    "High = []\n",
    "Low = []\n",
    "Volume = []\n",
    "for index, row in BCP.iterrows():\n",
    "    Date.append(index.date())\n",
    "    Open.append(round(row.Open,2))\n",
    "    Close.append(round(row.Close,2))\n",
    "    High.append(round(row.High,2))\n",
    "    Low.append(round(row.Low,2))\n",
    "    Volume.append(row.Volume)\n",
    "\n",
    "point = 0\n",
    "for i in Timelist:\n",
    "    if point >= len(Date):\n",
    "        point = len(Date) - 1\n",
    "    if (Date[point] > i):\n",
    "        point -= 1\n",
    "    X = [[High[point], Low[point], Open[point], Close[point], Volume[point], data['OPEC'][str(i.date())]['value']]]\n",
    "    y = modelBCP.predict(X)\n",
    "    if (i.strftime('%w') == '0') or (i.strftime('%w') == '6'):\n",
    "        tempVolume = 0\n",
    "    else :\n",
    "        tempVolume = Volume[point]\n",
    "    temp = {\n",
    "        str(i)[:10] : {\n",
    "            \"open\" : Open[point],\n",
    "            \"close\" : Close[point],\n",
    "            \"high\" : High[point],\n",
    "            \"low\" : Low[point],\n",
    "            \"volume\" : tempVolume,\n",
    "            \"predict\" : round(y[0],2)\n",
    "        }\n",
    "    }\n",
    "    data['BCP'].update(temp)\n",
    "    point += 1"
   ]
  },
  {
   "cell_type": "code",
   "execution_count": 90,
   "metadata": {},
   "outputs": [],
   "source": [
    "# SAVE JSON\n",
    "with open('dataV3.json', 'w+') as outfile:\n",
    "    json.dump(data, outfile)"
   ]
  },
  {
   "cell_type": "code",
   "execution_count": null,
   "metadata": {},
   "outputs": [],
   "source": [
    "print(round(1.994,2))"
   ]
  },
  {
   "cell_type": "code",
   "execution_count": null,
   "metadata": {},
   "outputs": [],
   "source": []
  }
 ]
}