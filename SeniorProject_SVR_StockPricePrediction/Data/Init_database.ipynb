{
 "metadata": {
  "language_info": {
   "codemirror_mode": {
    "name": "ipython",
    "version": 3
   },
   "file_extension": ".py",
   "mimetype": "text/x-python",
   "name": "python",
   "nbconvert_exporter": "python",
   "pygments_lexer": "ipython3",
   "version": "3.8.5-final"
  },
  "orig_nbformat": 2,
  "kernelspec": {
   "name": "python3",
   "display_name": "Python 3.8.5 64-bit (conda)",
   "metadata": {
    "interpreter": {
     "hash": "b3ba2566441a7c06988d0923437866b63cedc61552a5af99d1f4fb67d367b25f"
    }
   }
  }
 },
 "nbformat": 4,
 "nbformat_minor": 2,
 "cells": [
  {
   "cell_type": "code",
   "execution_count": 1,
   "metadata": {},
   "outputs": [],
   "source": [
    "from pandas_datareader import data as pdr\n",
    "# pip install pandas-datareader\n",
    "import quandl\n",
    "# pip install quandl\n",
    "from googlefinance import getQuotes\n",
    "# pip install googlefinance\n",
    "import json"
   ]
  },
  {
   "cell_type": "code",
   "execution_count": 2,
   "metadata": {},
   "outputs": [],
   "source": [
    "def QueryStockIndex(name, startDate, endDate):\n",
    "    data = pdr.get_data_yahoo(name, start=startDate, end=endDate)\n",
    "    return data"
   ]
  },
  {
   "cell_type": "code",
   "execution_count": 3,
   "metadata": {},
   "outputs": [],
   "source": [
    "def QueryOilPrice(startDate, endDate):\n",
    "    quandl.ApiConfig.api_key = \"RgFSGT7KyM8eqQzDgers\"\n",
    "    OilPrice = quandl.get(\"OPEC/ORB\", start_date=startDate, end_date=endDate)\n",
    "    return OilPrice"
   ]
  },
  {
   "cell_type": "code",
   "execution_count": 4,
   "metadata": {},
   "outputs": [
    {
     "output_type": "stream",
     "name": "stdout",
     "text": [
      "               Open     High      Low    Close        Volume\nDate                                                        \n2021-02-19  1504.98  1507.63  1493.52  1500.51  6.491874e+09\n2021-02-18  1519.79  1524.11  1510.77  1511.03  6.142199e+09\n2021-02-17  1519.74  1528.58  1513.96  1514.91  5.794408e+09\n2021-02-16  1528.43  1531.29  1522.41  1523.11  5.569535e+09\n2021-02-15  1515.91  1529.98  1513.33  1522.72  6.113121e+09\n...             ...      ...      ...      ...           ...\n2016-03-01  1335.52  1347.33  1331.55  1346.95           NaN\n2016-02-29  1342.43  1343.94  1331.57  1332.37           NaN\n2016-02-26  1338.48  1343.51  1335.74  1343.07           NaN\n2016-02-25  1338.04  1338.98  1326.68  1333.42           NaN\n2016-02-24  1323.01  1336.15  1320.91  1331.93           NaN\n\n[1218 rows x 5 columns]\n"
     ]
    }
   ],
   "source": [
    "SET = pdr.DataReader('^SET', data_source='stooq')\n",
    "print(SET)"
   ]
  },
  {
   "cell_type": "code",
   "execution_count": 5,
   "metadata": {},
   "outputs": [
    {
     "output_type": "stream",
     "name": "stdout",
     "text": [
      "            Value\nDate             \n2020-01-02  67.12\n2020-01-03  69.38\n2020-01-06  70.87\n2020-01-07  69.60\n2020-01-08  69.58\n...           ...\n2020-12-24  50.31\n2020-12-28  50.10\n2020-12-29  50.16\n2020-12-30  50.22\n2020-12-31  50.24\n\n[258 rows x 1 columns]\n"
     ]
    }
   ],
   "source": [
    "OPEC = QueryOilPrice(\"2020-1-1\", \"2021-1-1\")\n",
    "print(OPEC)"
   ]
  },
  {
   "cell_type": "code",
   "execution_count": 6,
   "metadata": {},
   "outputs": [
    {
     "output_type": "stream",
     "name": "stdout",
     "text": [
      "             High    Low   Open  Close       Volume  Adj Close\nDate                                                          \n2020-01-02  45.50  44.00  44.25  45.50   59084700.0  44.032112\n2020-01-03  47.00  46.00  46.25  46.50  147370600.0  44.999851\n2020-01-06  47.75  46.50  47.25  47.00   91026800.0  45.483719\n2020-01-07  47.25  46.25  47.25  47.25   60059600.0  45.725655\n2020-01-08  47.75  46.75  47.50  46.75   57759900.0  45.241787\n...           ...    ...    ...    ...          ...        ...\n2020-12-24  41.50  40.75  40.75  41.25   45405500.0  41.250000\n2020-12-25  42.25  41.25  41.25  42.00   32414000.0  42.000000\n2020-12-28  42.75  41.00  42.25  41.00   60698100.0  41.000000\n2020-12-29  42.50  41.00  41.25  42.50   41046600.0  42.500000\n2020-12-30  43.25  42.25  43.25  42.50   67293300.0  42.500000\n\n[243 rows x 6 columns]\n"
     ]
    }
   ],
   "source": [
    "PTT = QueryStockIndex(\"PTT.BK\", \"2020-1-1\", \"2021-1-1\")\n",
    "print(PTT)"
   ]
  },
  {
   "cell_type": "code",
   "execution_count": 7,
   "metadata": {},
   "outputs": [
    {
     "output_type": "stream",
     "name": "stdout",
     "text": [
      "            High   Low  Open  Close      Volume  Adj Close\nDate                                                      \n2020-01-02  2.86  2.80  2.80   2.86    345400.0   2.702435\n2020-01-03  2.94  2.86  2.86   2.90   1347100.0   2.740231\n2020-01-06  3.10  2.92  2.92   2.94  14450200.0   2.778027\n2020-01-07  2.98  2.92  2.96   2.94   3437300.0   2.778027\n2020-01-08  2.96  2.78  2.96   2.80   4401100.0   2.645740\n...          ...   ...   ...    ...         ...        ...\n2020-12-24  2.92  2.84  2.88   2.88   1259400.0   2.880000\n2020-12-25  2.96  2.88  2.90   2.96   1441700.0   2.960000\n2020-12-28  2.96  2.86  2.96   2.86   2418900.0   2.860000\n2020-12-29  2.94  2.88  2.88   2.92   1307600.0   2.920000\n2020-12-30  3.00  2.88  2.98   2.92   7229100.0   2.920000\n\n[243 rows x 6 columns]\n"
     ]
    }
   ],
   "source": [
    "SUSCO = QueryStockIndex(\"SUSCO.BK\", \"2020-1-1\", \"2021-1-1\")\n",
    "print(SUSCO)"
   ]
  },
  {
   "cell_type": "code",
   "execution_count": 8,
   "metadata": {},
   "outputs": [
    {
     "output_type": "stream",
     "name": "stdout",
     "text": [
      "             High    Low   Open  Close      Volume  Adj Close\nDate                                                         \n2020-01-02  72.00  69.25  70.00  71.00  12337200.0  70.211105\n2020-01-03  72.00  70.25  71.00  72.00  10290600.0  71.199997\n2020-01-06  73.50  69.50  73.00  70.00  16266200.0  69.222221\n2020-01-07  70.75  69.25  70.25  70.00   9925300.0  69.222221\n2020-01-08  69.50  66.50  69.00  67.25  17780300.0  66.502777\n...           ...    ...    ...    ...         ...        ...\n2020-12-24  53.00  51.50  52.25  52.25   8876600.0  52.250000\n2020-12-25  54.00  52.50  52.75  54.00   8690000.0  54.000000\n2020-12-28  54.75  51.25  54.25  51.25  11987600.0  51.250000\n2020-12-29  53.25  51.25  51.50  53.25   9664700.0  53.250000\n2020-12-30  53.75  51.75  53.25  52.00   7177500.0  52.000000\n\n[243 rows x 6 columns]\n"
     ]
    }
   ],
   "source": [
    "TOP = QueryStockIndex(\"TOP.BK\", \"2020-1-1\", \"2021-1-1\")\n",
    "print(TOP)"
   ]
  },
  {
   "cell_type": "code",
   "execution_count": 9,
   "metadata": {},
   "outputs": [
    {
     "output_type": "stream",
     "name": "stdout",
     "text": [
      "            High   Low  Open  Close       Volume  Adj Close\nDate                                                       \n2020-01-02  4.00  3.68  3.68   3.94  480402300.0   3.723813\n2020-01-03  3.96  3.88  3.96   3.92  149551200.0   3.704910\n2020-01-06  4.02  3.74  3.94   3.76  506720000.0   3.553689\n2020-01-07  3.84  3.64  3.82   3.76  243140900.0   3.553689\n2020-01-08  3.70  3.54  3.68   3.54  249116900.0   3.345761\n...          ...   ...   ...    ...          ...        ...\n2020-12-24  3.76  3.58  3.64   3.72  274781600.0   3.657654\n2020-12-25  3.94  3.72  3.74   3.80  486776000.0   3.736313\n2020-12-28  3.90  3.68  3.84   3.68  261693700.0   3.618324\n2020-12-29  3.84  3.68  3.70   3.82  277720200.0   3.755978\n2020-12-30  3.82  3.66  3.82   3.72  405343000.0   3.657654\n\n[243 rows x 6 columns]\n"
     ]
    }
   ],
   "source": [
    "IRPC = QueryStockIndex(\"IRPC.BK\", \"2020-1-1\", \"2021-1-1\")\n",
    "print(IRPC)"
   ]
  },
  {
   "cell_type": "code",
   "execution_count": 10,
   "metadata": {},
   "outputs": [
    {
     "output_type": "stream",
     "name": "stdout",
     "text": [
      "                 High        Low       Open  Close     Volume  Adj Close\nDate                                                                    \n2020-01-02  29.500000  27.750000  28.000000  29.00  8069000.0  28.637501\n2020-01-03  29.750000  29.000000  29.500000  29.00  4612700.0  28.637501\n2020-01-06  29.750000  27.000000  29.500000  27.75  9127800.0  27.403126\n2020-01-07  28.500000  27.250000  28.250000  28.25  4682900.0  27.896875\n2020-01-08  28.000000  26.750000  28.000000  27.75  8237000.0  27.403126\n...               ...        ...        ...    ...        ...        ...\n2020-12-24  20.400000  19.600000  19.700001  20.00  3135000.0  20.000000\n2020-12-25  20.700001  20.200001  20.200001  20.50  2064500.0  20.500000\n2020-12-28  20.799999  19.900000  20.700001  20.00  2647700.0  20.000000\n2020-12-29  20.600000  19.900000  20.000000  20.60  2561200.0  20.600000\n2020-12-30  20.799999  20.100000  20.799999  20.60  3685800.0  20.600000\n\n[243 rows x 6 columns]\n"
     ]
    }
   ],
   "source": [
    "BCP = QueryStockIndex(\"BCP.BK\", \"2020-1-1\", \"2021-1-1\")\n",
    "print(BCP)"
   ]
  },
  {
   "cell_type": "code",
   "execution_count": 47,
   "metadata": {},
   "outputs": [],
   "source": [
    "import json\n",
    "data = {}\n",
    "\n",
    "# SET\n",
    "data['SET'] = {}\n",
    "flag = False\n",
    "for index, row in SET.iterrows():\n",
    "    if (index.year == 2020):\n",
    "        temp = {\n",
    "            str(index)[:10] : {\n",
    "                \"open\" : row.Open,\n",
    "                \"close\" : row.Close,\n",
    "                \"high\" : row.High,\n",
    "                \"low\" : row.Low\n",
    "            }\n",
    "        }\n",
    "    data['SET'].update(temp)"
   ]
  },
  {
   "cell_type": "code",
   "execution_count": 50,
   "metadata": {},
   "outputs": [],
   "source": [
    "# OPEC\n",
    "data['OPEC'] = {}\n",
    "for index, row in OPEC.iterrows():\n",
    "    temp = {\n",
    "        str(index)[:10] : {\n",
    "            \"value\" : row.Value\n",
    "        }\n",
    "    }\n",
    "    data['OPEC'].update(temp)"
   ]
  },
  {
   "cell_type": "code",
   "execution_count": 59,
   "metadata": {},
   "outputs": [],
   "source": [
    "# PTT\n",
    "data['PTT'] = {}\n",
    "for index, row in PTT.iterrows():\n",
    "    temp = {\n",
    "        str(index)[:10] : {\n",
    "            \"open\" : row.Open,\n",
    "            \"close\" : row.Close,\n",
    "            \"high\" : row.High,\n",
    "            \"low\" : row.Low,\n",
    "            \"volume\" : row.Volume\n",
    "        }\n",
    "    }\n",
    "    data['PTT'].update(temp)"
   ]
  },
  {
   "cell_type": "code",
   "execution_count": 61,
   "metadata": {},
   "outputs": [],
   "source": [
    "# SUSCO\n",
    "data['SUSCO'] = {}\n",
    "for index, row in SUSCO.iterrows():\n",
    "    temp = {\n",
    "        str(index)[:10] : {\n",
    "            \"open\" : row.Open,\n",
    "            \"close\" : row.Close,\n",
    "            \"high\" : row.High,\n",
    "            \"low\" : row.Low,\n",
    "            \"volume\" : row.Volume\n",
    "        }\n",
    "    }\n",
    "    data['SUSCO'].update(temp)"
   ]
  },
  {
   "cell_type": "code",
   "execution_count": 62,
   "metadata": {},
   "outputs": [],
   "source": [
    "# TOP\n",
    "data['TOP'] = {}\n",
    "for index, row in TOP.iterrows():\n",
    "    temp = {\n",
    "        str(index)[:10] : {\n",
    "            \"open\" : row.Open,\n",
    "            \"close\" : row.Close,\n",
    "            \"high\" : row.High,\n",
    "            \"low\" : row.Low,\n",
    "            \"volume\" : row.Volume\n",
    "        }\n",
    "    }\n",
    "    data['TOP'].update(temp)"
   ]
  },
  {
   "cell_type": "code",
   "execution_count": 63,
   "metadata": {},
   "outputs": [],
   "source": [
    "# IRPC\n",
    "data['IRPC'] = {}\n",
    "for index, row in IRPC.iterrows():\n",
    "    temp = {\n",
    "        str(index)[:10] : {\n",
    "            \"open\" : row.Open,\n",
    "            \"close\" : row.Close,\n",
    "            \"high\" : row.High,\n",
    "            \"low\" : row.Low,\n",
    "            \"volume\" : row.Volume\n",
    "        }\n",
    "    }\n",
    "    data['IRPC'].update(temp)"
   ]
  },
  {
   "cell_type": "code",
   "execution_count": 64,
   "metadata": {},
   "outputs": [],
   "source": [
    "# BCP\n",
    "data['BCP'] = {}\n",
    "for index, row in BCP.iterrows():\n",
    "    temp = {\n",
    "        str(index)[:10] : {\n",
    "            \"open\" : row.Open,\n",
    "            \"close\" : row.Close,\n",
    "            \"high\" : row.High,\n",
    "            \"low\" : row.Low,\n",
    "            \"volume\" : row.Volume\n",
    "        }\n",
    "    }\n",
    "    data['BCP'].update(temp)"
   ]
  },
  {
   "cell_type": "code",
   "execution_count": 65,
   "metadata": {},
   "outputs": [],
   "source": [
    "# SAVE JSON\n",
    "with open('data.json', 'w') as outfile:\n",
    "    json.dump(data, outfile)"
   ]
  },
  {
   "cell_type": "code",
   "execution_count": null,
   "metadata": {},
   "outputs": [],
   "source": []
  }
 ]
}