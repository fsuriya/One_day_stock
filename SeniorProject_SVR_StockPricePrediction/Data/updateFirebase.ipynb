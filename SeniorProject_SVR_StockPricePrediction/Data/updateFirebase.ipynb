{
 "metadata": {
  "language_info": {
   "codemirror_mode": {
    "name": "ipython",
    "version": 3
   },
   "file_extension": ".py",
   "mimetype": "text/x-python",
   "name": "python",
   "nbconvert_exporter": "python",
   "pygments_lexer": "ipython3",
   "version": "3.8.5-final"
  },
  "orig_nbformat": 2,
  "kernelspec": {
   "name": "python3",
   "display_name": "Python 3",
   "language": "python"
  }
 },
 "nbformat": 4,
 "nbformat_minor": 2,
 "cells": [
  {
   "source": [
    "<h2>Update Database at 8 AM</h2>"
   ],
   "cell_type": "markdown",
   "metadata": {}
  },
  {
   "cell_type": "code",
   "execution_count": 1,
   "metadata": {},
   "outputs": [],
   "source": [
    "from pandas_datareader import data as pdr\n",
    "# pip install pandas-datareader\n",
    "import quandl\n",
    "# pip install quandl\n",
    "from googlefinance import getQuotes\n",
    "# pip install googlefinance\n",
    "import json\n",
    "import joblib"
   ]
  },
  {
   "cell_type": "code",
   "execution_count": 2,
   "metadata": {},
   "outputs": [
    {
     "output_type": "execute_result",
     "data": {
      "text/plain": [
       "<firebase_admin.App at 0x1eabdbc2cd0>"
      ]
     },
     "metadata": {},
     "execution_count": 2
    }
   ],
   "source": [
    "import firebase_admin\n",
    "from firebase_admin import credentials\n",
    "from firebase_admin import db\n",
    "\n",
    "# Fetch the service account key JSON file contents\n",
    "cred = credentials.Certificate('./one-day-stock-afb526f07b58.json')\n",
    "\n",
    "# Initialize the app with a service account, granting admin privileges\n",
    "firebase_admin.initialize_app(cred, {\n",
    "    'databaseURL': 'https://one-day-stock-default-rtdb.firebaseio.com'\n",
    "})"
   ]
  },
  {
   "cell_type": "code",
   "execution_count": 3,
   "metadata": {},
   "outputs": [],
   "source": [
    "def QueryStockIndex(name, startDate, endDate):\n",
    "    data = pdr.get_data_yahoo(name, start=startDate, end=endDate)\n",
    "    return data"
   ]
  },
  {
   "cell_type": "code",
   "execution_count": 13,
   "metadata": {},
   "outputs": [],
   "source": [
    "def QueryOilPrice(startDate, endDate):\n",
    "    quandl.ApiConfig.api_key = \"RgFSGT7KyM8eqQzDgers\"\n",
    "    OilPrice = quandl.get(\"OPEC/ORB\", start_date=startDate,end_date=endDate)\n",
    "    return OilPrice"
   ]
  },
  {
   "cell_type": "code",
   "execution_count": 14,
   "metadata": {},
   "outputs": [
    {
     "output_type": "stream",
     "name": "stdout",
     "text": [
      "2021-03-22 00:00:00\n"
     ]
    }
   ],
   "source": [
    "import datetime\n",
    "\n",
    "dateData = datetime.datetime(2021, 3, 22)\n",
    "if (dateData.strftime(\"%w\") == '0'):\n",
    "    dateStart = dateData - datetime.timedelta(days=2)\n",
    "    dateEnd = dateData - datetime.timedelta(days=2)\n",
    "elif (dateData.strftime(\"%w\") == '6'):\n",
    "    dateStart = dateData - datetime.timedelta(days=1)\n",
    "    dateEnd = dateData - datetime.timedelta(days=1)\n",
    "else :\n",
    "    dateStart = dateData\n",
    "    dateEnd = dateData\n",
    "\n",
    "print(dateStart)"
   ]
  },
  {
   "cell_type": "code",
   "execution_count": 15,
   "metadata": {},
   "outputs": [
    {
     "output_type": "stream",
     "name": "stdout",
     "text": [
      "Update SET = {'Open': 1563.56, 'Close': 1566.36, 'High': 1571.74, 'Low': 1555.38}\n"
     ]
    }
   ],
   "source": [
    "SET = pdr.DataReader('^SET', data_source='stooq')\n",
    "for index, row in SET.iterrows():\n",
    "    if (str(index)[:10] == str(dateStart)[:10]):\n",
    "        temp = {\n",
    "            'Open' : row.Open,\n",
    "            'Close' : row.Close,\n",
    "            'High' : row.High,\n",
    "            'Low' : row.Low\n",
    "        }\n",
    "ref = db.reference('/SET')\n",
    "ref.child(str(dateData)[:10]).update(temp)\n",
    "print('Update SET = '+ str(temp))"
   ]
  },
  {
   "cell_type": "code",
   "execution_count": 16,
   "metadata": {},
   "outputs": [
    {
     "output_type": "stream",
     "name": "stdout",
     "text": [
      "Update OPEC = {'value': 62.47}\n"
     ]
    }
   ],
   "source": [
    "x = True\n",
    "a = 1\n",
    "while(x):\n",
    "    try :\n",
    "        OPEC = QueryOilPrice(dateStart - datetime.timedelta(days=a), dateEnd - datetime.timedelta(days=a))\n",
    "        float(OPEC.Value)\n",
    "        x = False\n",
    "    except :\n",
    "        a += 1\n",
    "for index, row in OPEC.iterrows():\n",
    "    temp = {\n",
    "        'value' : row.Value\n",
    "    }\n",
    "ref = db.reference('/OPEC')\n",
    "ref.child(str(dateData)[:10]).update(temp)\n",
    "print('Update OPEC = '+ str(temp))"
   ]
  },
  {
   "cell_type": "code",
   "execution_count": 17,
   "metadata": {},
   "outputs": [
    {
     "output_type": "stream",
     "name": "stderr",
     "text": [
      "C:\\ProgramData\\Anaconda3\\lib\\site-packages\\sklearn\\base.py:329: UserWarning: Trying to unpickle estimator StandardScaler from version 0.24.1 when using version 0.23.2. This might lead to breaking code or invalid results. Use at your own risk.\n",
      "  warnings.warn(\n",
      "C:\\ProgramData\\Anaconda3\\lib\\site-packages\\sklearn\\base.py:329: UserWarning: Trying to unpickle estimator SVR from version 0.24.1 when using version 0.23.2. This might lead to breaking code or invalid results. Use at your own risk.\n",
      "  warnings.warn(\n",
      "C:\\ProgramData\\Anaconda3\\lib\\site-packages\\sklearn\\base.py:329: UserWarning: Trying to unpickle estimator Pipeline from version 0.24.1 when using version 0.23.2. This might lead to breaking code or invalid results. Use at your own risk.\n",
      "  warnings.warn(\n",
      "2021-03-22 00:00:00\n",
      "Update PTT = {'close': 40.5, 'high': 40.75, 'low': 40.0, 'open': 40.5, 'predict': 40.49, 'volume': 34058900}\n"
     ]
    }
   ],
   "source": [
    "modelPTT = joblib.load('../SVM/model/best/PTT.joblib')\n",
    "PTT = QueryStockIndex(\"PTT.BK\", dateStart, dateEnd)\n",
    "# OPEC = QueryOilPrice(dateStart - datetime.timedelta(days=1), dateEnd - datetime.timedelta(days=1))\n",
    "x = True\n",
    "a = 1\n",
    "while(x):\n",
    "    try :\n",
    "        OPEC = QueryOilPrice(dateStart - datetime.timedelta(days=a), dateEnd - datetime.timedelta(days=a))\n",
    "        float(OPEC.Value)\n",
    "        x = False\n",
    "    except :\n",
    "        a += 1\n",
    "result = modelPTT.predict([[float(PTT.High), float(PTT.Low), float(PTT.Open), float(PTT.Close), float(PTT.Volume), float(OPEC.Value)]])\n",
    "print(dateStart)\n",
    "if (dateData.strftime(\"%w\") == '0') or (dateData.strftime(\"%w\") == '6'):\n",
    "    tempVolume = 0\n",
    "else :\n",
    "    tempVolume = int(PTT.Volume)\n",
    "temp = {\n",
    "    'close': round(float(PTT.Close),2),\n",
    "    'high': round(float(PTT.High),2),\n",
    "    'low': round(float(PTT.Low),2),\n",
    "    'open': round(float(PTT.Open),2),\n",
    "    'predict': round(float(result[0]),2),\n",
    "    'volume': tempVolume\n",
    "\n",
    "}\n",
    "ref = db.reference('/PTT')\n",
    "ref.child(str(dateData)[:10]).update(temp)\n",
    "print('Update PTT = '+ str(temp))"
   ]
  },
  {
   "cell_type": "code",
   "execution_count": 18,
   "metadata": {},
   "outputs": [
    {
     "output_type": "stream",
     "name": "stderr",
     "text": [
      "C:\\ProgramData\\Anaconda3\\lib\\site-packages\\sklearn\\base.py:329: UserWarning: Trying to unpickle estimator StandardScaler from version 0.24.1 when using version 0.23.2. This might lead to breaking code or invalid results. Use at your own risk.\n",
      "  warnings.warn(\n",
      "C:\\ProgramData\\Anaconda3\\lib\\site-packages\\sklearn\\base.py:329: UserWarning: Trying to unpickle estimator SVR from version 0.24.1 when using version 0.23.2. This might lead to breaking code or invalid results. Use at your own risk.\n",
      "  warnings.warn(\n",
      "C:\\ProgramData\\Anaconda3\\lib\\site-packages\\sklearn\\base.py:329: UserWarning: Trying to unpickle estimator Pipeline from version 0.24.1 when using version 0.23.2. This might lead to breaking code or invalid results. Use at your own risk.\n",
      "  warnings.warn(\n",
      "Update BCP = {'close': 26.75, 'high': 27.5, 'low': 26.5, 'open': 27.5, 'predict': 26.9, 'volume': 5345200}\n"
     ]
    }
   ],
   "source": [
    "modelBCP = joblib.load('../SVM/model/best/BCP.joblib')\n",
    "BCP = QueryStockIndex(\"BCP.BK\", dateStart, dateEnd)\n",
    "x = True\n",
    "a = 1\n",
    "while(x):\n",
    "    try :\n",
    "        OPEC = QueryOilPrice(dateStart - datetime.timedelta(days=a), dateEnd - datetime.timedelta(days=a))\n",
    "        float(OPEC.Value)\n",
    "        x = False\n",
    "    except :\n",
    "        a += 1\n",
    "result = modelBCP.predict([[float(BCP.High), float(BCP.Low), float(BCP.Open), float(BCP.Close), int(BCP.Volume), float(OPEC.Value)]])\n",
    "if (dateData.strftime(\"%w\") == '0') or (dateData.strftime(\"%w\") == '6'):\n",
    "    tempVolume = 0\n",
    "else :\n",
    "    tempVolume = int(BCP.Volume)\n",
    "temp = {\n",
    "    'close': round(float(BCP.Close),2),\n",
    "    'high': round(float(BCP.High),2),\n",
    "    'low': round(float(BCP.Low),2),\n",
    "    'open': round(float(BCP.Open),2),\n",
    "    'predict': round(float(result[0]),2),\n",
    "    'volume': tempVolume\n",
    "\n",
    "}\n",
    "ref = db.reference('/BCP')\n",
    "ref.child(str(dateData)[:10]).update(temp)\n",
    "print('Update BCP = '+ str(temp))"
   ]
  },
  {
   "cell_type": "code",
   "execution_count": 19,
   "metadata": {},
   "outputs": [
    {
     "output_type": "stream",
     "name": "stderr",
     "text": [
      "C:\\ProgramData\\Anaconda3\\lib\\site-packages\\sklearn\\base.py:329: UserWarning: Trying to unpickle estimator StandardScaler from version 0.24.1 when using version 0.23.2. This might lead to breaking code or invalid results. Use at your own risk.\n",
      "  warnings.warn(\n",
      "C:\\ProgramData\\Anaconda3\\lib\\site-packages\\sklearn\\base.py:329: UserWarning: Trying to unpickle estimator SVR from version 0.24.1 when using version 0.23.2. This might lead to breaking code or invalid results. Use at your own risk.\n",
      "  warnings.warn(\n",
      "C:\\ProgramData\\Anaconda3\\lib\\site-packages\\sklearn\\base.py:329: UserWarning: Trying to unpickle estimator Pipeline from version 0.24.1 when using version 0.23.2. This might lead to breaking code or invalid results. Use at your own risk.\n",
      "  warnings.warn(\n",
      "Update IRPC = {'close': 3.82, 'high': 3.86, 'low': 3.8, 'open': 3.84, 'predict': 3.81, 'volume': 134783800}\n"
     ]
    }
   ],
   "source": [
    "modelIRPC = joblib.load('../SVM/model/best/IRPC.joblib')\n",
    "IRPC = QueryStockIndex(\"IRPC.BK\", dateStart, dateEnd)\n",
    "x = True\n",
    "a = 1\n",
    "while(x):\n",
    "    try :\n",
    "        OPEC = QueryOilPrice(dateStart - datetime.timedelta(days=a), dateEnd - datetime.timedelta(days=a))\n",
    "        float(OPEC.Value)\n",
    "        x = False\n",
    "    except :\n",
    "        a += 1\n",
    "result = modelIRPC.predict([[float(IRPC.High), float(IRPC.Low), float(IRPC.Open), float(IRPC.Close), int(IRPC.Volume), float(OPEC.Value)]])\n",
    "if (dateData.strftime(\"%w\") == '0') or (dateData.strftime(\"%w\") == '6'):\n",
    "    tempVolume = 0\n",
    "else :\n",
    "    tempVolume = int(IRPC.Volume)\n",
    "temp = {\n",
    "    'close': round(float(IRPC.Close),2),\n",
    "    'high': round(float(IRPC.High),2),\n",
    "    'low': round(float(IRPC.Low),2),\n",
    "    'open': round(float(IRPC.Open),2),\n",
    "    'predict': round(float(result[0]),2),\n",
    "    'volume': tempVolume\n",
    "\n",
    "}\n",
    "ref = db.reference('/IRPC')\n",
    "ref.child(str(dateData)[:10]).update(temp)\n",
    "print('Update IRPC = '+ str(temp))"
   ]
  },
  {
   "cell_type": "code",
   "execution_count": 20,
   "metadata": {},
   "outputs": [
    {
     "output_type": "stream",
     "name": "stdout",
     "text": [
      "Update SUSCO = {'close': 3.5, 'high': 3.5, 'low': 3.42, 'open': 3.46, 'predict': 3.49, 'volume': 3076400}\n"
     ]
    }
   ],
   "source": [
    "modelSUSCO = joblib.load('../SVM/model/best/SUSCO.joblib')\n",
    "SUSCO = QueryStockIndex(\"SUSCO.BK\", dateStart, dateEnd)\n",
    "x = True\n",
    "a = 1\n",
    "while(x):\n",
    "    try :\n",
    "        OPEC = QueryOilPrice(dateStart - datetime.timedelta(days=a), dateEnd - datetime.timedelta(days=a))\n",
    "        float(OPEC.Value)\n",
    "        x = False\n",
    "    except :\n",
    "        a += 1\n",
    "result = modelSUSCO.predict([[float(SUSCO.High), float(SUSCO.Low), float(SUSCO.Open), float(SUSCO.Close), int(SUSCO.Volume), float(OPEC.Value)]])\n",
    "if (dateData.strftime(\"%w\") == '0') or (dateData.strftime(\"%w\") == '6'):\n",
    "    tempVolume = 0\n",
    "else :\n",
    "    tempVolume = int(SUSCO.Volume)\n",
    "temp = {\n",
    "    'close': round(float(SUSCO.Close),2),\n",
    "    'high': round(float(SUSCO.High),2),\n",
    "    'low': round(float(SUSCO.Low),2),\n",
    "    'open': round(float(SUSCO.Open),2),\n",
    "    'predict': round(float(result[0]),2),\n",
    "    'volume': tempVolume\n",
    "\n",
    "}\n",
    "ref = db.reference('/SUSCO')\n",
    "ref.child(str(dateData)[:10]).update(temp)\n",
    "print('Update SUSCO = '+ str(temp))"
   ]
  },
  {
   "cell_type": "code",
   "execution_count": 21,
   "metadata": {},
   "outputs": [
    {
     "output_type": "stream",
     "name": "stdout",
     "text": [
      "Update TOP = {'close': 62.0, 'high': 62.5, 'low': 60.75, 'open': 61.0, 'predict': 61.9, 'volume': 4888900}\n"
     ]
    }
   ],
   "source": [
    "modelTOP = joblib.load('../SVM/model/best/TOP.joblib')\n",
    "TOP = QueryStockIndex(\"TOP.BK\", dateStart, dateEnd)\n",
    "x = True\n",
    "a = 1\n",
    "while(x):\n",
    "    try :\n",
    "        OPEC = QueryOilPrice(dateStart - datetime.timedelta(days=a), dateEnd - datetime.timedelta(days=a))\n",
    "        float(OPEC.Value)\n",
    "        x = False\n",
    "    except :\n",
    "        a += 1\n",
    "result = modelTOP.predict([[float(TOP.High), float(TOP.Low), float(TOP.Open), float(TOP.Close), int(TOP.Volume), float(OPEC.Value)]])\n",
    "if (dateData.strftime(\"%w\") == '0') or (dateData.strftime(\"%w\") == '6'):\n",
    "    tempVolume = 0\n",
    "else :\n",
    "    tempVolume = int(TOP.Volume)\n",
    "temp = {\n",
    "    'close': round(float(TOP.Close),2),\n",
    "    'high': round(float(TOP.High),2),\n",
    "    'low': round(float(TOP.Low),2),\n",
    "    'open': round(float(TOP.Open),2),\n",
    "    'predict': round(float(result[0]),2),\n",
    "    'volume': tempVolume\n",
    "\n",
    "}\n",
    "ref = db.reference('/TOP')\n",
    "ref.child(str(dateData)[:10]).update(temp)\n",
    "print('Update TOP = '+ str(temp))"
   ]
  },
  {
   "cell_type": "code",
   "execution_count": null,
   "metadata": {},
   "outputs": [],
   "source": []
  }
 ]
}